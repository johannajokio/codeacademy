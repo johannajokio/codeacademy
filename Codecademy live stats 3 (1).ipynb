{
 "cells": [
  {
   "cell_type": "markdown",
   "metadata": {},
   "source": [
    "## Codecademy Live Stats #3 "
   ]
  },
  {
   "cell_type": "code",
   "execution_count": 1,
   "metadata": {},
   "outputs": [],
   "source": [
    "import pandas as pd\n",
    "import numpy as np\n",
    "import matplotlib.pyplot as plt \n",
    "import seaborn as sns\n",
    "import random"
   ]
  },
  {
   "cell_type": "code",
   "execution_count": 81,
   "metadata": {},
   "outputs": [],
   "source": [
    "rentals = pd.read_csv(\"https://raw.githubusercontent.com/Codecademy/datasets/master/streeteasy/streeteasy.csv\")"
   ]
  },
  {
   "cell_type": "code",
   "execution_count": 82,
   "metadata": {},
   "outputs": [
    {
     "data": {
      "text/html": [
       "<div>\n",
       "<style scoped>\n",
       "    .dataframe tbody tr th:only-of-type {\n",
       "        vertical-align: middle;\n",
       "    }\n",
       "\n",
       "    .dataframe tbody tr th {\n",
       "        vertical-align: top;\n",
       "    }\n",
       "\n",
       "    .dataframe thead th {\n",
       "        text-align: right;\n",
       "    }\n",
       "</style>\n",
       "<table border=\"1\" class=\"dataframe\">\n",
       "  <thead>\n",
       "    <tr style=\"text-align: right;\">\n",
       "      <th></th>\n",
       "      <th>rental_id</th>\n",
       "      <th>building_id</th>\n",
       "      <th>rent</th>\n",
       "      <th>bedrooms</th>\n",
       "      <th>bathrooms</th>\n",
       "      <th>size_sqft</th>\n",
       "      <th>min_to_subway</th>\n",
       "      <th>floor</th>\n",
       "      <th>building_age_yrs</th>\n",
       "      <th>no_fee</th>\n",
       "      <th>has_roofdeck</th>\n",
       "      <th>has_washer_dryer</th>\n",
       "      <th>has_doorman</th>\n",
       "      <th>has_elevator</th>\n",
       "      <th>has_dishwasher</th>\n",
       "      <th>has_patio</th>\n",
       "      <th>has_gym</th>\n",
       "      <th>neighborhood</th>\n",
       "      <th>submarket</th>\n",
       "      <th>borough</th>\n",
       "    </tr>\n",
       "  </thead>\n",
       "  <tbody>\n",
       "    <tr>\n",
       "      <th>0</th>\n",
       "      <td>1545</td>\n",
       "      <td>44518357</td>\n",
       "      <td>2550</td>\n",
       "      <td>0.0</td>\n",
       "      <td>1</td>\n",
       "      <td>480</td>\n",
       "      <td>9</td>\n",
       "      <td>2.0</td>\n",
       "      <td>17</td>\n",
       "      <td>1</td>\n",
       "      <td>1</td>\n",
       "      <td>0</td>\n",
       "      <td>0</td>\n",
       "      <td>1</td>\n",
       "      <td>1</td>\n",
       "      <td>0</td>\n",
       "      <td>1</td>\n",
       "      <td>Upper East Side</td>\n",
       "      <td>All Upper East Side</td>\n",
       "      <td>Manhattan</td>\n",
       "    </tr>\n",
       "    <tr>\n",
       "      <th>1</th>\n",
       "      <td>2472</td>\n",
       "      <td>94441623</td>\n",
       "      <td>11500</td>\n",
       "      <td>2.0</td>\n",
       "      <td>2</td>\n",
       "      <td>2000</td>\n",
       "      <td>4</td>\n",
       "      <td>1.0</td>\n",
       "      <td>96</td>\n",
       "      <td>0</td>\n",
       "      <td>0</td>\n",
       "      <td>0</td>\n",
       "      <td>0</td>\n",
       "      <td>0</td>\n",
       "      <td>0</td>\n",
       "      <td>0</td>\n",
       "      <td>0</td>\n",
       "      <td>Greenwich Village</td>\n",
       "      <td>All Downtown</td>\n",
       "      <td>Manhattan</td>\n",
       "    </tr>\n",
       "    <tr>\n",
       "      <th>2</th>\n",
       "      <td>10234</td>\n",
       "      <td>87632265</td>\n",
       "      <td>3000</td>\n",
       "      <td>3.0</td>\n",
       "      <td>1</td>\n",
       "      <td>1000</td>\n",
       "      <td>4</td>\n",
       "      <td>1.0</td>\n",
       "      <td>106</td>\n",
       "      <td>0</td>\n",
       "      <td>0</td>\n",
       "      <td>0</td>\n",
       "      <td>0</td>\n",
       "      <td>0</td>\n",
       "      <td>0</td>\n",
       "      <td>0</td>\n",
       "      <td>0</td>\n",
       "      <td>Astoria</td>\n",
       "      <td>Northwest Queens</td>\n",
       "      <td>Queens</td>\n",
       "    </tr>\n",
       "    <tr>\n",
       "      <th>3</th>\n",
       "      <td>2919</td>\n",
       "      <td>76909719</td>\n",
       "      <td>4500</td>\n",
       "      <td>1.0</td>\n",
       "      <td>1</td>\n",
       "      <td>916</td>\n",
       "      <td>2</td>\n",
       "      <td>51.0</td>\n",
       "      <td>29</td>\n",
       "      <td>0</td>\n",
       "      <td>1</td>\n",
       "      <td>0</td>\n",
       "      <td>1</td>\n",
       "      <td>1</td>\n",
       "      <td>1</td>\n",
       "      <td>0</td>\n",
       "      <td>0</td>\n",
       "      <td>Midtown</td>\n",
       "      <td>All Midtown</td>\n",
       "      <td>Manhattan</td>\n",
       "    </tr>\n",
       "    <tr>\n",
       "      <th>4</th>\n",
       "      <td>2790</td>\n",
       "      <td>92953520</td>\n",
       "      <td>4795</td>\n",
       "      <td>1.0</td>\n",
       "      <td>1</td>\n",
       "      <td>975</td>\n",
       "      <td>3</td>\n",
       "      <td>8.0</td>\n",
       "      <td>31</td>\n",
       "      <td>0</td>\n",
       "      <td>0</td>\n",
       "      <td>0</td>\n",
       "      <td>1</td>\n",
       "      <td>1</td>\n",
       "      <td>1</td>\n",
       "      <td>0</td>\n",
       "      <td>1</td>\n",
       "      <td>Greenwich Village</td>\n",
       "      <td>All Downtown</td>\n",
       "      <td>Manhattan</td>\n",
       "    </tr>\n",
       "  </tbody>\n",
       "</table>\n",
       "</div>"
      ],
      "text/plain": [
       "   rental_id  building_id   rent  bedrooms  bathrooms  size_sqft  \\\n",
       "0       1545     44518357   2550       0.0          1        480   \n",
       "1       2472     94441623  11500       2.0          2       2000   \n",
       "2      10234     87632265   3000       3.0          1       1000   \n",
       "3       2919     76909719   4500       1.0          1        916   \n",
       "4       2790     92953520   4795       1.0          1        975   \n",
       "\n",
       "   min_to_subway  floor  building_age_yrs  no_fee  has_roofdeck  \\\n",
       "0              9    2.0                17       1             1   \n",
       "1              4    1.0                96       0             0   \n",
       "2              4    1.0               106       0             0   \n",
       "3              2   51.0                29       0             1   \n",
       "4              3    8.0                31       0             0   \n",
       "\n",
       "   has_washer_dryer  has_doorman  has_elevator  has_dishwasher  has_patio  \\\n",
       "0                 0            0             1               1          0   \n",
       "1                 0            0             0               0          0   \n",
       "2                 0            0             0               0          0   \n",
       "3                 0            1             1               1          0   \n",
       "4                 0            1             1               1          0   \n",
       "\n",
       "   has_gym       neighborhood            submarket    borough  \n",
       "0        1    Upper East Side  All Upper East Side  Manhattan  \n",
       "1        0  Greenwich Village         All Downtown  Manhattan  \n",
       "2        0            Astoria     Northwest Queens     Queens  \n",
       "3        0            Midtown          All Midtown  Manhattan  \n",
       "4        1  Greenwich Village         All Downtown  Manhattan  "
      ]
     },
     "execution_count": 82,
     "metadata": {},
     "output_type": "execute_result"
    }
   ],
   "source": [
    "rentals.head()"
   ]
  },
  {
   "cell_type": "code",
   "execution_count": 83,
   "metadata": {},
   "outputs": [],
   "source": [
    "\n",
    "rentals.no_fee.replace({1:'yes', 0:'no'}, inplace=True)\n",
    "rentals.has_roofdeck.replace({1:'yes', 0:'no'}, inplace=True)\n",
    "rentals.has_washer_dryer.replace({1:'yes', 0:'no'}, inplace=True)\n",
    "rentals.has_doorman.replace({1:'yes', 0:'no'}, inplace=True)\n",
    "rentals.has_elevator.replace({1:'yes', 0:'no'}, inplace=True)\n",
    "rentals.has_dishwasher.replace({1:'yes', 0:'no'}, inplace=True)\n",
    "rentals.has_patio.replace({1:'yes', 0:'no'}, inplace=True)\n",
    "rentals.has_gym.replace({1:'yes', 0:'no'}, inplace=True)   "
   ]
  },
  {
   "cell_type": "code",
   "execution_count": 74,
   "metadata": {},
   "outputs": [],
   "source": [
    "# column_names = [\n",
    "#     'no_fee', \n",
    "#     'has_roofdeck', \n",
    "#     'has_washer_dryer', \n",
    "#     'has_doorman', \n",
    "#     'has_elevator', \n",
    "#     'has_dishwasher', \n",
    "#     'has_patio', \n",
    "#     'has_gym'\n",
    "# ]\n",
    "\n",
    "\n",
    "# for column_name in column_names:\n",
    "#     column = rentals[column_name]\n",
    "#     column.replace({1:'yes', 0:'no'}, inplace=True)\n",
    "# #    print(column.head())\n"
   ]
  },
  {
   "cell_type": "code",
   "execution_count": 84,
   "metadata": {},
   "outputs": [],
   "source": [
    "rentals.drop(columns=['rental_id', 'building_id'], inplace=True)"
   ]
  },
  {
   "cell_type": "code",
   "execution_count": 85,
   "metadata": {},
   "outputs": [
    {
     "name": "stdout",
     "output_type": "stream",
     "text": [
      "    rent  bedrooms  bathrooms  size_sqft  min_to_subway  floor  \\\n",
      "0   2550       0.0          1        480              9    2.0   \n",
      "1  11500       2.0          2       2000              4    1.0   \n",
      "2   3000       3.0          1       1000              4    1.0   \n",
      "3   4500       1.0          1        916              2   51.0   \n",
      "4   4795       1.0          1        975              3    8.0   \n",
      "\n",
      "   building_age_yrs no_fee has_roofdeck has_washer_dryer has_doorman  \\\n",
      "0                17    yes          yes               no          no   \n",
      "1                96     no           no               no          no   \n",
      "2               106     no           no               no          no   \n",
      "3                29     no          yes               no         yes   \n",
      "4                31     no           no               no         yes   \n",
      "\n",
      "  has_elevator has_dishwasher has_patio has_gym       neighborhood  \\\n",
      "0          yes            yes        no     yes    Upper East Side   \n",
      "1           no             no        no      no  Greenwich Village   \n",
      "2           no             no        no      no            Astoria   \n",
      "3          yes            yes        no      no            Midtown   \n",
      "4          yes            yes        no     yes  Greenwich Village   \n",
      "\n",
      "             submarket    borough  \n",
      "0  All Upper East Side  Manhattan  \n",
      "1         All Downtown  Manhattan  \n",
      "2     Northwest Queens     Queens  \n",
      "3          All Midtown  Manhattan  \n",
      "4         All Downtown  Manhattan  \n"
     ]
    }
   ],
   "source": [
    "print(rentals.head())"
   ]
  },
  {
   "cell_type": "code",
   "execution_count": 86,
   "metadata": {},
   "outputs": [
    {
     "data": {
      "text/plain": [
       "borough\n",
       "Brooklyn     3327.403751\n",
       "Manhattan    5138.940379\n",
       "Queens       2516.147321\n",
       "Name: rent, dtype: float64"
      ]
     },
     "execution_count": 86,
     "metadata": {},
     "output_type": "execute_result"
    }
   ],
   "source": [
    "rentals.groupby('borough').mean().rent"
   ]
  },
  {
   "cell_type": "code",
   "execution_count": 88,
   "metadata": {},
   "outputs": [
    {
     "data": {
      "text/plain": [
       "borough\n",
       "Brooklyn     3000.0\n",
       "Manhattan    4000.0\n",
       "Queens       2350.0\n",
       "Name: rent, dtype: float64"
      ]
     },
     "execution_count": 88,
     "metadata": {},
     "output_type": "execute_result"
    }
   ],
   "source": [
    "rentals.groupby('borough').median().rent"
   ]
  },
  {
   "cell_type": "code",
   "execution_count": 91,
   "metadata": {},
   "outputs": [
    {
     "data": {
      "image/png": "[encoded data removed]",
      "text/plain": [
       "<Figure size 432x288 with 1 Axes>"
      ]
     },
     "metadata": {
      "needs_background": "light"
     },
     "output_type": "display_data"
    }
   ],
   "source": [
    "sns.boxplot(x = 'borough', y = 'rent', data = rentals)\n",
    "plt.show()"
   ]
  },
  {
   "cell_type": "code",
   "execution_count": 92,
   "metadata": {},
   "outputs": [
    {
     "data": {
      "image/png": "[encoded data removed]",
      "text/plain": [
       "<Figure size 432x288 with 1 Axes>"
      ]
     },
     "metadata": {
      "needs_background": "light"
     },
     "output_type": "display_data"
    }
   ],
   "source": [
    "sns.boxplot(x = 'borough', y = 'rent', data = rentals[rentals.rent <12000])\n",
    "plt.show()"
   ]
  },
  {
   "cell_type": "code",
   "execution_count": 90,
   "metadata": {},
   "outputs": [
    {
     "data": {
      "text/plain": [
       "<matplotlib.legend.Legend at 0x11d991ac0>"
      ]
     },
     "execution_count": 90,
     "metadata": {},
     "output_type": "execute_result"
    },
    {
     "data": {
      "image/png": "[encoded data removed]",
      "text/plain": [
       "<Figure size 432x288 with 1 Axes>"
      ]
     },
     "metadata": {
      "needs_background": "light"
     },
     "output_type": "display_data"
    }
   ],
   "source": [
    "#overlaid histograms - plot density rather than count\n",
    "plt.hist(rentals.rent[rentals.borough=='Manhattan'], label='Manhattan', bins = 30, density=True, alpha=.5)\n",
    "plt.hist(rentals.rent[rentals.borough=='Brooklyn'], label='Brooklyn', bins = 30, density=True, alpha=.5)\n",
    "plt.hist(rentals.rent[rentals.borough=='Queens'], label='Queens', bins = 30, density=True, alpha=.5)\n",
    "plt.legend()"
   ]
  },
  {
   "cell_type": "code",
   "execution_count": 95,
   "metadata": {},
   "outputs": [
    {
     "data": {
      "image/png": "[encoded data removed]",
      "text/plain": [
       "<Figure size 432x288 with 1 Axes>"
      ]
     },
     "metadata": {
      "needs_background": "light"
     },
     "output_type": "display_data"
    }
   ],
   "source": [
    "plt.scatter(rentals.size_sqft, rentals.rent)\n",
    "plt.xlabel('square feet')\n",
    "plt.ylabel('rent')\n",
    "plt.show()"
   ]
  },
  {
   "cell_type": "code",
   "execution_count": 96,
   "metadata": {},
   "outputs": [
    {
     "data": {
      "text/plain": [
       "(0.8087835060658338, 0.0)"
      ]
     },
     "execution_count": 96,
     "metadata": {},
     "output_type": "execute_result"
    }
   ],
   "source": [
    "from scipy.stats import pearsonr\n",
    "pearsonr(rentals.size_sqft, rentals.rent)"
   ]
  },
  {
   "cell_type": "code",
   "execution_count": 97,
   "metadata": {},
   "outputs": [
    {
     "data": {
      "text/html": [
       "<div>\n",
       "<style scoped>\n",
       "    .dataframe tbody tr th:only-of-type {\n",
       "        vertical-align: middle;\n",
       "    }\n",
       "\n",
       "    .dataframe tbody tr th {\n",
       "        vertical-align: top;\n",
       "    }\n",
       "\n",
       "    .dataframe thead th {\n",
       "        text-align: right;\n",
       "    }\n",
       "</style>\n",
       "<table border=\"1\" class=\"dataframe\">\n",
       "  <thead>\n",
       "    <tr style=\"text-align: right;\">\n",
       "      <th></th>\n",
       "      <th>rent</th>\n",
       "      <th>bedrooms</th>\n",
       "      <th>bathrooms</th>\n",
       "      <th>size_sqft</th>\n",
       "      <th>min_to_subway</th>\n",
       "      <th>floor</th>\n",
       "      <th>building_age_yrs</th>\n",
       "    </tr>\n",
       "  </thead>\n",
       "  <tbody>\n",
       "    <tr>\n",
       "      <th>rent</th>\n",
       "      <td>1.000000</td>\n",
       "      <td>0.531200</td>\n",
       "      <td>0.733644</td>\n",
       "      <td>0.808784</td>\n",
       "      <td>0.003652</td>\n",
       "      <td>0.272351</td>\n",
       "      <td>-0.122302</td>\n",
       "    </tr>\n",
       "    <tr>\n",
       "      <th>bedrooms</th>\n",
       "      <td>0.531200</td>\n",
       "      <td>1.000000</td>\n",
       "      <td>0.647499</td>\n",
       "      <td>0.738410</td>\n",
       "      <td>0.053365</td>\n",
       "      <td>-0.006468</td>\n",
       "      <td>0.070329</td>\n",
       "    </tr>\n",
       "    <tr>\n",
       "      <th>bathrooms</th>\n",
       "      <td>0.733644</td>\n",
       "      <td>0.647499</td>\n",
       "      <td>1.000000</td>\n",
       "      <td>0.770593</td>\n",
       "      <td>0.054891</td>\n",
       "      <td>0.145303</td>\n",
       "      <td>-0.103050</td>\n",
       "    </tr>\n",
       "    <tr>\n",
       "      <th>size_sqft</th>\n",
       "      <td>0.808784</td>\n",
       "      <td>0.738410</td>\n",
       "      <td>0.770593</td>\n",
       "      <td>1.000000</td>\n",
       "      <td>0.024422</td>\n",
       "      <td>0.100234</td>\n",
       "      <td>0.026434</td>\n",
       "    </tr>\n",
       "    <tr>\n",
       "      <th>min_to_subway</th>\n",
       "      <td>0.003652</td>\n",
       "      <td>0.053365</td>\n",
       "      <td>0.054891</td>\n",
       "      <td>0.024422</td>\n",
       "      <td>1.000000</td>\n",
       "      <td>0.029242</td>\n",
       "      <td>-0.138273</td>\n",
       "    </tr>\n",
       "    <tr>\n",
       "      <th>floor</th>\n",
       "      <td>0.272351</td>\n",
       "      <td>-0.006468</td>\n",
       "      <td>0.145303</td>\n",
       "      <td>0.100234</td>\n",
       "      <td>0.029242</td>\n",
       "      <td>1.000000</td>\n",
       "      <td>-0.352757</td>\n",
       "    </tr>\n",
       "    <tr>\n",
       "      <th>building_age_yrs</th>\n",
       "      <td>-0.122302</td>\n",
       "      <td>0.070329</td>\n",
       "      <td>-0.103050</td>\n",
       "      <td>0.026434</td>\n",
       "      <td>-0.138273</td>\n",
       "      <td>-0.352757</td>\n",
       "      <td>1.000000</td>\n",
       "    </tr>\n",
       "  </tbody>\n",
       "</table>\n",
       "</div>"
      ],
      "text/plain": [
       "                      rent  bedrooms  bathrooms  size_sqft  min_to_subway  \\\n",
       "rent              1.000000  0.531200   0.733644   0.808784       0.003652   \n",
       "bedrooms          0.531200  1.000000   0.647499   0.738410       0.053365   \n",
       "bathrooms         0.733644  0.647499   1.000000   0.770593       0.054891   \n",
       "size_sqft         0.808784  0.738410   0.770593   1.000000       0.024422   \n",
       "min_to_subway     0.003652  0.053365   0.054891   0.024422       1.000000   \n",
       "floor             0.272351 -0.006468   0.145303   0.100234       0.029242   \n",
       "building_age_yrs -0.122302  0.070329  -0.103050   0.026434      -0.138273   \n",
       "\n",
       "                     floor  building_age_yrs  \n",
       "rent              0.272351         -0.122302  \n",
       "bedrooms         -0.006468          0.070329  \n",
       "bathrooms         0.145303         -0.103050  \n",
       "size_sqft         0.100234          0.026434  \n",
       "min_to_subway     0.029242         -0.138273  \n",
       "floor             1.000000         -0.352757  \n",
       "building_age_yrs -0.352757          1.000000  "
      ]
     },
     "execution_count": 97,
     "metadata": {},
     "output_type": "execute_result"
    }
   ],
   "source": [
    "rentals.corr()"
   ]
  },
  {
   "cell_type": "code",
   "execution_count": 98,
   "metadata": {},
   "outputs": [
    {
     "data": {
      "text/plain": [
       "(array([0.5, 1.5, 2.5, 3.5, 4.5, 5.5, 6.5]),\n",
       " <a list of 7 Text major ticklabel objects>)"
      ]
     },
     "execution_count": 98,
     "metadata": {},
     "output_type": "execute_result"
    },
    {
     "data": {
      "image/png": "[encoded data removed]",
      "text/plain": [
       "<Figure size 432x288 with 2 Axes>"
      ]
     },
     "metadata": {
      "needs_background": "light"
     },
     "output_type": "display_data"
    }
   ],
   "source": [
    "colors = sns.diverging_palette(150, 275, as_cmap=True)\n",
    "\n",
    "#Create heatmap\n",
    "sns.heatmap(rentals.corr(), center=0, cmap=colors)\n",
    "plt.xticks(fontsize= 15)\n",
    "plt.yticks(fontsize= 15)"
   ]
  },
  {
   "cell_type": "code",
   "execution_count": 99,
   "metadata": {},
   "outputs": [
    {
     "data": {
      "text/html": [
       "<div>\n",
       "<style scoped>\n",
       "    .dataframe tbody tr th:only-of-type {\n",
       "        vertical-align: middle;\n",
       "    }\n",
       "\n",
       "    .dataframe tbody tr th {\n",
       "        vertical-align: top;\n",
       "    }\n",
       "\n",
       "    .dataframe thead th {\n",
       "        text-align: right;\n",
       "    }\n",
       "</style>\n",
       "<table border=\"1\" class=\"dataframe\">\n",
       "  <thead>\n",
       "    <tr style=\"text-align: right;\">\n",
       "      <th>has_gym</th>\n",
       "      <th>no</th>\n",
       "      <th>yes</th>\n",
       "    </tr>\n",
       "    <tr>\n",
       "      <th>has_elevator</th>\n",
       "      <th></th>\n",
       "      <th></th>\n",
       "    </tr>\n",
       "  </thead>\n",
       "  <tbody>\n",
       "    <tr>\n",
       "      <th>no</th>\n",
       "      <td>3748</td>\n",
       "      <td>52</td>\n",
       "    </tr>\n",
       "    <tr>\n",
       "      <th>yes</th>\n",
       "      <td>533</td>\n",
       "      <td>667</td>\n",
       "    </tr>\n",
       "  </tbody>\n",
       "</table>\n",
       "</div>"
      ],
      "text/plain": [
       "has_gym         no  yes\n",
       "has_elevator           \n",
       "no            3748   52\n",
       "yes            533  667"
      ]
     },
     "execution_count": 99,
     "metadata": {},
     "output_type": "execute_result"
    }
   ],
   "source": [
    "pd.crosstab(rentals.has_elevator, rentals.has_gym)"
   ]
  },
  {
   "cell_type": "code",
   "execution_count": 100,
   "metadata": {},
   "outputs": [
    {
     "data": {
      "image/png": "[encoded data removed]",
      "text/plain": [
       "<Figure size 432x288 with 1 Axes>"
      ]
     },
     "metadata": {
      "needs_background": "light"
     },
     "output_type": "display_data"
    }
   ],
   "source": [
    "sns.countplot(x='has_elevator', hue='has_gym', data=rentals)\n",
    "plt.show()"
   ]
  },
  {
   "cell_type": "code",
   "execution_count": 101,
   "metadata": {},
   "outputs": [
    {
     "data": {
      "text/plain": [
       "(2172.798470720333,\n",
       " 0.0,\n",
       " 1,\n",
       " array([[3253.56,  546.44],\n",
       "        [1027.44,  172.56]]))"
      ]
     },
     "execution_count": 101,
     "metadata": {},
     "output_type": "execute_result"
    }
   ],
   "source": [
    "from scipy.stats import chi2_contingency\n",
    "Xtab = pd.crosstab(rentals.has_elevator, rentals.has_gym)\n",
    "chi2_contingency(Xtab)"
   ]
  },
  {
   "cell_type": "code",
   "execution_count": 102,
   "metadata": {},
   "outputs": [
    {
     "data": {
      "text/html": [
       "<div>\n",
       "<style scoped>\n",
       "    .dataframe tbody tr th:only-of-type {\n",
       "        vertical-align: middle;\n",
       "    }\n",
       "\n",
       "    .dataframe tbody tr th {\n",
       "        vertical-align: top;\n",
       "    }\n",
       "\n",
       "    .dataframe thead th {\n",
       "        text-align: right;\n",
       "    }\n",
       "</style>\n",
       "<table border=\"1\" class=\"dataframe\">\n",
       "  <thead>\n",
       "    <tr style=\"text-align: right;\">\n",
       "      <th>has_gym</th>\n",
       "      <th>no</th>\n",
       "      <th>yes</th>\n",
       "    </tr>\n",
       "    <tr>\n",
       "      <th>has_elevator</th>\n",
       "      <th></th>\n",
       "      <th></th>\n",
       "    </tr>\n",
       "  </thead>\n",
       "  <tbody>\n",
       "    <tr>\n",
       "      <th>no</th>\n",
       "      <td>3748</td>\n",
       "      <td>52</td>\n",
       "    </tr>\n",
       "    <tr>\n",
       "      <th>yes</th>\n",
       "      <td>533</td>\n",
       "      <td>667</td>\n",
       "    </tr>\n",
       "  </tbody>\n",
       "</table>\n",
       "</div>"
      ],
      "text/plain": [
       "has_gym         no  yes\n",
       "has_elevator           \n",
       "no            3748   52\n",
       "yes            533  667"
      ]
     },
     "execution_count": 102,
     "metadata": {},
     "output_type": "execute_result"
    }
   ],
   "source": [
    "Xtab"
   ]
  },
  {
   "cell_type": "code",
   "execution_count": null,
   "metadata": {},
   "outputs": [],
   "source": []
  }
 ],
 "metadata": {
  "kernelspec": {
   "display_name": "Python 3",
   "language": "python",
   "name": "python3"
  },
  "language_info": {
   "codemirror_mode": {
    "name": "ipython",
    "version": 3
   },
   "file_extension": ".py",
   "mimetype": "text/x-python",
   "name": "python",
   "nbconvert_exporter": "python",
   "pygments_lexer": "ipython3",
   "version": "3.8.3"
  }
 },
 "nbformat": 4,
 "nbformat_minor": 4
}
