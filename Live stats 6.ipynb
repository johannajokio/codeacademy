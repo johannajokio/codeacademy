{
 "cells": [
  {
   "cell_type": "markdown",
   "metadata": {},
   "source": [
    "## Live stats 6 Hypothesis testing: significance thresholds and multiple hypothesis tests"
   ]
  },
  {
   "cell_type": "code",
   "execution_count": 10,
   "metadata": {},
   "outputs": [],
   "source": [
    "import pandas as pd\n",
    "import numpy as np\n",
    "import matplotlib.pyplot as plt \n",
    "import seaborn as sns\n",
    "import random\n",
    "from scipy.stats import binom_test"
   ]
  },
  {
   "cell_type": "code",
   "execution_count": 2,
   "metadata": {},
   "outputs": [
    {
     "name": "stdout",
     "output_type": "stream",
     "text": [
      "             timestamp purchase                       item\n",
      "0  2020-01-17 17:23:06        y  cue cards - love actually\n",
      "1  2020-01-25 17:09:39        n                        NaN\n",
      "2  2020-01-25 05:22:01        n                        NaN\n",
      "3  2020-01-18 04:33:40        y      t-rex - jurassic park\n",
      "4  2020-01-24 17:24:52        n                        NaN\n"
     ]
    }
   ],
   "source": [
    "monthly_report = pd.read_csv('https://raw.githubusercontent.com/Codecademy/Master-Statistics-Live-Series/main/Codecademy%20Live%20Stats%20%236/monthly_report.csv')\n",
    "print(monthly_report.head())"
   ]
  },
  {
   "cell_type": "code",
   "execution_count": 4,
   "metadata": {
    "scrolled": true
   },
   "outputs": [
    {
     "name": "stdout",
     "output_type": "stream",
     "text": [
      "41\n"
     ]
    }
   ],
   "source": [
    "print(np.sum(monthly_report.purchase == 'y'))"
   ]
  },
  {
   "cell_type": "code",
   "execution_count": 12,
   "metadata": {},
   "outputs": [
    {
     "name": "stdout",
     "output_type": "stream",
     "text": [
      "46 0.3060437171243919\n"
     ]
    }
   ],
   "source": [
    "# if we simulate 500 visits, how many purchases do we get with a probability of 0.1\n",
    "simulated_visitors = np.random.choice(['y', 'n'], size = 500, p=[.1, .9])\n",
    "purchases = np.sum(simulated_visitors == 'y')\n",
    "p_value = binom_test(purchases, 500, .1, alternative='less')\n",
    "print(purchases, p_value)"
   ]
  },
  {
   "cell_type": "code",
   "execution_count": 14,
   "metadata": {},
   "outputs": [],
   "source": [
    "#null hypothesis: purchase is 10%\n",
    "#alternative hypothesis: purchase rate is <10%\n",
    "#so probability of observing 46 or fewer purchases is 30% if pr 10%\n",
    "# actually we are running the test with the null hyp true \"p=.1\""
   ]
  },
  {
   "cell_type": "code",
   "execution_count": 15,
   "metadata": {},
   "outputs": [
    {
     "name": "stdout",
     "output_type": "stream",
     "text": [
      "0.9972892817337355\n"
     ]
    }
   ],
   "source": [
    "p_value = binom_test(69, 500, .1, alternative='less')\n",
    "print(p_value)"
   ]
  },
  {
   "cell_type": "code",
   "execution_count": 16,
   "metadata": {},
   "outputs": [],
   "source": [
    "#run a binomial test for each simulation\n",
    "p_vals = []\n",
    "for i in range(1000):\n",
    "    simulated_visitors = np.random.choice(['y', 'n'], size = 500, p=[.1, .9])\n",
    "    purchases = np.sum(simulated_visitors == 'y')\n",
    "    p_value = binom_test(purchases, 500, .1)\n",
    "    p_vals.append(p_value)"
   ]
  },
  {
   "cell_type": "code",
   "execution_count": 17,
   "metadata": {},
   "outputs": [
    {
     "data": {
      "text/plain": [
       "(array([ 89.,  70., 137.,  68.,  85.,  88., 114., 102., 135., 112.]),\n",
       " array([0.00277664, 0.10249898, 0.20222131, 0.30194365, 0.40166599,\n",
       "        0.50138832, 0.60111066, 0.70083299, 0.80055533, 0.90027766,\n",
       "        1.        ]),\n",
       " <a list of 10 Patch objects>)"
      ]
     },
     "execution_count": 17,
     "metadata": {},
     "output_type": "execute_result"
    },
    {
     "data": {
      "image/png": "[encoded data removed]",
      "text/plain": [
       "<Figure size 432x288 with 1 Axes>"
      ]
     },
     "metadata": {
      "needs_background": "light"
     },
     "output_type": "display_data"
    }
   ],
   "source": [
    "plt.hist(p_vals)\n",
    "#a uniform distribution - equally likely to get p-value between 0-1"
   ]
  },
  {
   "cell_type": "code",
   "execution_count": 18,
   "metadata": {},
   "outputs": [
    {
     "name": "stdout",
     "output_type": "stream",
     "text": [
      "0.0044\n"
     ]
    }
   ],
   "source": [
    "#p-value below threshold but falsely accept null hypothesis\n",
    "type_1_errors = 0\n",
    "\n",
    "for i in range(1000):\n",
    "    simulated_visitors = np.random.choice(['y', 'n'], size = 500, p=[.1, .9])\n",
    "    purchases = np.sum(simulated_visitors == 'y')\n",
    "    p_value = binom_test(purchases, 500, .1)\n",
    "    if p_value < 0.05:\n",
    "        type_1_errors += 1\n",
    "\n",
    "print(type_1_errors/10000)"
   ]
  },
  {
   "cell_type": "code",
   "execution_count": null,
   "metadata": {},
   "outputs": [],
   "source": []
  }
 ],
 "metadata": {
  "kernelspec": {
   "display_name": "Python 3",
   "language": "python",
   "name": "python3"
  },
  "language_info": {
   "codemirror_mode": {
    "name": "ipython",
    "version": 3
   },
   "file_extension": ".py",
   "mimetype": "text/x-python",
   "name": "python",
   "nbconvert_exporter": "python",
   "pygments_lexer": "ipython3",
   "version": "3.8.3"
  }
 },
 "nbformat": 4,
 "nbformat_minor": 4
}
